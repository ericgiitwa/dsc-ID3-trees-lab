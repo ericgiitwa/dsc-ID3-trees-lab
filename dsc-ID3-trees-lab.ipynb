{
 "cells": [
  {
   "cell_type": "markdown",
   "metadata": {},
   "source": [
    "# ID3 Classification Trees: Perfect Split with Information Gain - Lab\n",
    "\n",
    "## Introduction\n",
    "\n",
    "In this lab, we will simulate the example from the previous lesson in Python. You will write functions to calculate entropy and IG which will be used for calculating these uncertainty measures and deciding upon creating a split using information gain while growing an ID3 classification tree. You will also write a general function that can be used for other (larger) problems as well. So let's get on with it.\n",
    "\n",
    "## Objectives\n",
    "\n",
    "In this lab you will: \n",
    "\n",
    "- Write functions for calculating entropy and information gain measures  \n",
    "- Use entropy and information gain to identify the attribute that results in the best split at each node\n",
    "\n",
    "\n",
    "## Problem\n",
    "\n",
    "You will use the same problem about deciding whether to go and play tennis on a given day, given the weather conditions. Here is the data from the previous lesson:\n",
    "\n",
    "|  outlook | temp | humidity | windy | play |\n",
    "|:--------:|:----:|:--------:|:-----:|:----:|\n",
    "| overcast | cool |   high   |   Y   |  yes |\n",
    "| overcast | mild |  normal  |   N   |  yes |\n",
    "|   sunny  | cool |  normal  |   N   |  yes |\n",
    "| overcast |  hot |   high   |   Y   |  no  |\n",
    "|   sunny  |  hot |  normal  |   Y   |  yes |\n",
    "|   rain   | mild |   high   |   N   |  no  |\n",
    "|   rain   | cool |  normal  |   N   |  no  |\n",
    "|   sunny  | mild |   high   |   N   |  yes |\n",
    "|   sunny  | cool |  normal  |   Y   |  yes |\n",
    "|   sunny  | mild |  normal  |   Y   |  yes |\n",
    "| overcast | cool |   high   |   N   |  yes |\n",
    "|   rain   | cool |   high   |   Y   |  no  |\n",
    "|   sunny  |  hot |  normal  |   Y   |  no  |\n",
    "|   sunny  | mild |   high   |   N   |  yes |\n",
    "\n",
    "\n",
    "## Write a function `entropy(pi)` to calculate total entropy in a given discrete probability distribution `pi`\n",
    "\n",
    "- The function should take in a probability distribution `pi` as a list of class distributions. This should be a list of two integers, representing how many items are in each class. For example: `[4, 4]` indicates that there are four items in each class, `[10, 0]` indicates that there are 10 items in one class and 0 in the other. \n",
    "- Calculate and return entropy according to the formula: $$Entropy(p) = -\\sum (P_i . log_2(P_i))$$"
   ]
  },
  {
   "cell_type": "code",
   "execution_count": 1,
   "metadata": {
    "tags": []
   },
   "outputs": [
    {
     "name": "stdout",
     "output_type": "stream",
     "text": [
      "1.0\n",
      "0.0\n",
      "0.6500224216483541\n"
     ]
    }
   ],
   "source": [
    "from math import log2\n",
    "import math\n",
    "\n",
    "data = [\n",
    "    {\"outlook\": \"overcast\", \"temp\": \"cool\", \"humidity\": \"high\", \"windy\": \"Y\", \"play\": \"yes\"},\n",
    "    {\"outlook\": \"overcast\", \"temp\": \"mild\", \"humidity\": \"normal\", \"windy\": \"N\", \"play\": \"yes\"},\n",
    "    {\"outlook\": \"sunny\", \"temp\": \"cool\", \"humidity\": \"normal\", \"windy\": \"N\", \"play\": \"yes\"},\n",
    "    {\"outlook\": \"overcast\", \"temp\": \"hot\", \"humidity\": \"high\", \"windy\": \"Y\", \"play\": \"no\"},\n",
    "    {\"outlook\": \"sunny\", \"temp\": \"hot\", \"humidity\": \"normal\", \"windy\": \"Y\", \"play\": \"yes\"},\n",
    "    {\"outlook\": \"rain\", \"temp\": \"mild\", \"humidity\": \"high\", \"windy\": \"N\", \"play\": \"no\"},\n",
    "    {\"outlook\": \"rain\", \"temp\": \"cool\", \"humidity\": \"normal\", \"windy\": \"N\", \"play\": \"no\"},\n",
    "    {\"outlook\": \"sunny\", \"temp\": \"mild\", \"humidity\": \"high\", \"windy\": \"N\", \"play\": \"yes\"},\n",
    "    {\"outlook\": \"sunny\", \"temp\": \"cool\", \"humidity\": \"normal\", \"windy\": \"Y\", \"play\": \"yes\"},\n",
    "    {\"outlook\": \"sunny\", \"temp\": \"mild\", \"humidity\": \"normal\", \"windy\": \"Y\", \"play\": \"yes\"},\n",
    "    {\"outlook\": \"overcast\", \"temp\": \"cool\", \"humidity\": \"high\", \"windy\": \"N\", \"play\": \"yes\"},\n",
    "    {\"outlook\": \"rain\", \"temp\": \"cool\", \"humidity\": \"high\", \"windy\": \"Y\", \"play\": \"no\"},\n",
    "    {\"outlook\": \"sunny\", \"temp\": \"hot\", \"humidity\": \"normal\", \"windy\": \"Y\", \"play\": \"no\"},\n",
    "    {\"outlook\": \"sunny\", \"temp\": \"mild\", \"humidity\": \"high\", \"windy\": \"N\", \"play\": \"yes\"}\n",
    "]\n",
    "def entropy(pi):\n",
    "    total = sum(pi)\n",
    "    if total == 0:\n",
    "        return 0.0\n",
    "    \n",
    "    # Calculate entropy using the formula: Entropy(p) = -sum(P_i * log2(P_i))\n",
    "    # Handle cases where P_i is 0 (log2(0) is undefined, but P_i * log2(P_i) approaches 0)\n",
    "    ent = 0.0\n",
    "    for count in pi:\n",
    "        if count == 0:\n",
    "            continue\n",
    "        prob = count / total\n",
    "        ent -= prob * math.log2(prob)\n",
    "    return ent\n",
    "\n",
    "# Test the function\n",
    "\n",
    "print(entropy([1, 1]))  # Maximum Entropy e.g. a coin toss\n",
    "print(\n",
    "    entropy([0, 6])\n",
    ")  # No entropy, ignore the -ve with zero , it's there due to log function\n",
    "print(entropy([2, 10]))  # A random mix of classes\n",
    "\n",
    "# 1.0\n",
    "# -0.0\n",
    "# 0.6500224216483541"
   ]
  },
  {
   "cell_type": "code",
   "execution_count": 2,
   "metadata": {},
   "outputs": [
    {
     "name": "stdout",
     "output_type": "stream",
     "text": [
      "1.0\n",
      "-0.0\n",
      "0.6500224216483541\n"
     ]
    }
   ],
   "source": [
    "from math import log2\n",
    "\n",
    "def entropy(pi):\n",
    "    \"\"\"Calculate entropy for a given probability distribution.\"\"\"\n",
    "    total = sum(pi)  # Total instances\n",
    "    probabilities = [p/total for p in pi if total > 0]  # Convert counts to probabilities\n",
    "    \n",
    "    # Compute entropy, ignoring zero probabilities\n",
    "    return -sum(p * log2(p) for p in probabilities if p > 0)\n",
    "\n",
    "# Test cases\n",
    "print(entropy([1, 1]))  # Expected: 1.0 (Maximum entropy)\n",
    "print(entropy([0, 6]))  # Expected: 0.0 (No entropy)\n",
    "print(entropy([2, 10])) # Expected: Value between 0 and 1\n"
   ]
  },
  {
   "cell_type": "markdown",
   "metadata": {},
   "source": [
    "## Write a function `IG(D,a)` to calculate the information gain \n",
    "\n",
    "- As input, the function should take in `D` as a class distribution array for target class, and `a` the class distribution of the attribute to be tested\n",
    "- Using the `entropy()` function from above, calculate the information gain as:\n",
    "\n",
    "$$gain(D,A) = Entropy(D) - \\sum(\\frac{|D_i|}{|D|}.Entropy(D_i))$$\n",
    "\n",
    "where $D_{i}$ represents distribution of each class in `a`.\n"
   ]
  },
  {
   "cell_type": "code",
   "execution_count": 3,
   "metadata": {},
   "outputs": [
    {
     "name": "stdout",
     "output_type": "stream",
     "text": [
      "0.5408520829727552\n"
     ]
    }
   ],
   "source": [
    "def IG(D, a):\n",
    "    # Calculate the entropy of the parent node (D)\n",
    "    entropy_D = entropy(D)\n",
    "    \n",
    "    # Calculate the weighted average entropy of the child nodes (a)\n",
    "    total_D = sum(D)\n",
    "    weighted_avg_entropy = 0.0\n",
    "    \n",
    "    for sub_dist in a:\n",
    "        total_sub_dist = sum(sub_dist)\n",
    "        if total_sub_dist == 0: # Avoid division by zero if a sub-distribution is empty\n",
    "            continue\n",
    "        weight = total_sub_dist / total_D\n",
    "        weighted_avg_entropy += weight * entropy(sub_dist)\n",
    "        \n",
    "    # Information Gain = Entropy(D) - Weighted Average Entropy of children\n",
    "    return entropy_D - weighted_avg_entropy\n",
    "# Test the function\n",
    "# Set of example of the dataset - distribution of classes\n",
    "test_dist = [6, 6]  # Yes, No\n",
    "# Attribute, number of members (feature)\n",
    "test_attr = [\n",
    "    [4, 0],\n",
    "    [2, 4],\n",
    "    [0, 2],\n",
    "]  # class1, class2, class3 of attr1 according to YES/NO classes in test_dist\n",
    "\n",
    "print(IG(test_dist, test_attr))\n",
    "\n",
    "# 0.5408520829727552"
   ]
  },
  {
   "cell_type": "code",
   "execution_count": 4,
   "metadata": {},
   "outputs": [
    {
     "name": "stdout",
     "output_type": "stream",
     "text": [
      "Entropy of D: 1.0\n",
      "Information Gain: 0.08170416594551044\n"
     ]
    }
   ],
   "source": [
    "def IG(D, a):\n",
    "    \"\"\"Calculate Information Gain\"\"\"\n",
    "    total = sum(D)\n",
    "    weighted_entropy = sum((sum(subset) / total) * entropy(subset) for subset in a)  # Weighted sum\n",
    "    \n",
    "    return entropy(D) - weighted_entropy\n",
    "\n",
    "# Example Test Cases\n",
    "D = [6, 6]  # Example class distribution\n",
    "a = [[4, 2], [2, 4]]  # Example attribute distribution\n",
    "\n",
    "print(\"Entropy of D:\", entropy(D))\n",
    "print(\"Information Gain:\", IG(D, a))\n"
   ]
  },
  {
   "cell_type": "markdown",
   "metadata": {},
   "source": [
    "## First iteration - Decide the best split for the root node\n",
    "\n",
    "- Create the class distribution `play` as a list showing frequencies of both classes from the dataset\n",
    "- Similarly, create variables for four categorical feature attributes showing the class distribution for each class with respect to the target classes (yes and no)\n",
    "- Pass the play distribution with each attribute to calculate the information gain"
   ]
  },
  {
   "cell_type": "code",
   "execution_count": 5,
   "metadata": {},
   "outputs": [
    {
     "name": "stdout",
     "output_type": "stream",
     "text": [
      "Information Gain:\n",
      "\n",
      "Outlook: 0.4126558195340009\n",
      "Temperature: 0.09212146003297272\n",
      "Humidity: 0.016111606370189824\n",
      "Wind:, 0.016111606370189824\n"
     ]
    }
   ],
   "source": [
    "def get_attribute_distributions(dataset, attribute_name, target_attribute=\"play\"):\n",
    "    target_yes_count = 0\n",
    "    target_no_count = 0\n",
    "    attribute_values_dist = {}\n",
    "\n",
    "    for row in dataset:\n",
    "        attr_val = row[attribute_name]\n",
    "        play_val = row[target_attribute]\n",
    "\n",
    "        if play_val == \"yes\":\n",
    "            target_yes_count += 1\n",
    "        else:\n",
    "            target_no_count += 1\n",
    "\n",
    "        if attr_val not in attribute_values_dist:\n",
    "            attribute_values_dist[attr_val] = [0, 0] # [yes_count, no_count]\n",
    "        \n",
    "        if play_val == \"yes\":\n",
    "            attribute_values_dist[attr_val][0] += 1\n",
    "        else:\n",
    "            attribute_values_dist[attr_val][1] += 1\n",
    "            \n",
    "    attribute_list_dist = list(attribute_values_dist.values())\n",
    "\n",
    "    return [target_yes_count, target_no_count], attribute_values_dist, attribute_list_dist\n",
    "\n",
    "play, outlook_dist_dict, outlook = get_attribute_distributions(data, \"outlook\")\n",
    "_, temp_dist_dict, temperature = get_attribute_distributions(data, \"temp\")\n",
    "_, humidity_dist_dict, humidity = get_attribute_distributions(data, \"humidity\")\n",
    "_, wind_dist_dict, wind = get_attribute_distributions(data, \"windy\")\n",
    "\n",
    "# Information Gain:\n",
    "\n",
    "print(\"Information Gain:\\n\")\n",
    "print(\"Outlook:\", IG(play, outlook))\n",
    "print(\"Temperature:\", IG(play, temperature))\n",
    "print(\"Humidity:\", IG(play, humidity))\n",
    "print(\"Wind:,\", IG(play, wind))\n",
    "\n",
    "# Outlook: 0.41265581953400066\n",
    "# Temperature: 0.09212146003297261\n",
    "# Humidity: 0.0161116063701896\n",
    "# Wind:, 0.0161116063701896"
   ]
  },
  {
   "cell_type": "markdown",
   "metadata": {},
   "source": [
    "We see here that the outlook attribute gives us the highest value for information gain, hence we choose this for creating a split at the root node. So far, we've built the following decision tree:\n",
    "<img src='https://curriculum-content.s3.amazonaws.com/data-science/images/outlook.png'  width =\"650\"  >\n",
    "\n",
    "\n",
    "## Second iteration\n",
    "\n",
    "Since the first iteration determines what split we should make for the root node of our tree, it's pretty simple. Now, we move down to the second level and start finding the optimal split for each of the nodes on this level. The first branch (edge) of three above that leads to the \"Sunny\" outcome. Of the temperature, humidity and wind attributes, find which one provides the highest information gain.\n",
    "\n",
    "Follow the same steps as above. Remember, we have 6 positive examples and 1 negative example in the \"sunny\" branch."
   ]
  },
  {
   "cell_type": "code",
   "execution_count": 6,
   "metadata": {
    "tags": []
   },
   "outputs": [
    {
     "name": "stdout",
     "output_type": "stream",
     "text": [
      "Play distribution for 'Sunny' branch (Yes, No): [6, 1]\n",
      "Information Gain:\n",
      "\n",
      "Temperature: 0.3059584928680418\n",
      "Humidity: 0.0760098536627829\n",
      "Wind: 0.12808527889139443\n"
     ]
    }
   ],
   "source": [
    "sunny_data = [row for row in data if row[\"outlook\"] == \"sunny\"]\n",
    "\n",
    "# Calculate play distribution for the \"Sunny\" subset\n",
    "sunny_play_yes = sum(1 for row in sunny_data if row[\"play\"] == \"yes\")\n",
    "sunny_play_no = sum(1 for row in sunny_data if row[\"play\"] == \"no\")\n",
    "sunny_play = [sunny_play_yes, sunny_play_no]\n",
    "print(f\"Play distribution for 'Sunny' branch (Yes, No): {sunny_play}\")\n",
    "\n",
    "\n",
    "# Get attribute distributions for temperature, humidity, and wind within the \"Sunny\" subset\n",
    "_, sunny_temp_dist_dict, sunny_temperature = get_attribute_distributions(sunny_data, \"temp\")\n",
    "_, sunny_humidity_dist_dict, sunny_humidity = get_attribute_distributions(sunny_data, \"humidity\")\n",
    "_, sunny_wind_dist_dict, sunny_wind = get_attribute_distributions(sunny_data, \"windy\")\n",
    "\n",
    "# Information Gain:\n",
    "print(\"Information Gain:\\n\")\n",
    "\n",
    "print(\"Temperature:\", IG(sunny_play, sunny_temperature))\n",
    "print(\"Humidity:\", IG(sunny_play, sunny_humidity))\n",
    "print(\"Wind:\", IG(sunny_play, sunny_wind))\n",
    "\n",
    "# Temperature: 0.3059584928680418\n",
    "# Humidity: 0.0760098536627829\n",
    "# Wind: 0.12808527889139443"
   ]
  },
  {
   "cell_type": "markdown",
   "metadata": {},
   "source": [
    "We see that temperature gives us the highest information gain, so we'll use it to split our tree as shown below:\n",
    "\n",
    "<img src='https://curriculum-content.s3.amazonaws.com/data-science/images/temp.png'  width =\"650\"  >\n",
    "\n",
    "\n",
    "Let's continue. \n",
    "\n",
    "## Third iteration\n",
    "\n",
    "We'll now calculate splits for the 'temperature' node we just created for days where the weather is sunny. Temperature has three possible values: [Hot, Mild, Cool]. This means that for each of the possible temperatures, we'll need to calculate if splitting on windy or humidity gives us the greatest possible information gain.\n",
    "\n",
    "Why are we doing this next instead of the rest of the splits on level 2? Because a decision tree is a greedy algorithm, meaning that the next choice is always the one that will give it the greatest information gain. In this case, evaluating the temperature on sunny days gives us the most information gain, so that's where we'll go next.\n",
    "\n",
    "## All other iterations\n",
    "\n",
    "What happens once we get down to a 'pure' split? Obviously, we stop splitting. Once that happens, we go back to the highest remaining uncalculated node and calculate the best possible split for that one. We then continue on with that branch, until we have exhausted all possible splits or we run into a split that gives us 'pure' leaves where all 'play=Yes' is on one side of the split, and all 'play=No' is on the other.\n",
    "\n",
    "## Summary \n",
    "\n",
    "This lab should have helped you familiarize yourself with how decision trees work 'under the hood', and demystified how the algorithm actually 'learns' from data by: \n",
    "\n",
    "- Calculating entropy and information gain\n",
    "- Figuring out the next split you should calculate ('greedy' approach) "
   ]
  }
 ],
 "metadata": {
  "kernelspec": {
   "display_name": "Python 3",
   "language": "python",
   "name": "python3"
  },
  "language_info": {
   "codemirror_mode": {
    "name": "ipython",
    "version": 3
   },
   "file_extension": ".py",
   "mimetype": "text/x-python",
   "name": "python",
   "nbconvert_exporter": "python",
   "pygments_lexer": "ipython3",
   "version": "3.8.5"
  }
 },
 "nbformat": 4,
 "nbformat_minor": 2
}
